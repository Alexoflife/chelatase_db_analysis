{
 "cells": [
  {
   "cell_type": "code",
   "execution_count": 21,
   "metadata": {},
   "outputs": [],
   "source": [
    "#Structure of txt file:\n",
    "#parent_id\tdata\n",
    "#56\tAUGC   \n",
    "#24\tAAUC \n",
    "\n",
    "#Structure of fasta file:\n",
    "#>56\n",
    "#AUGC   \n",
    "#>24\n",
    "#AAUC \n",
    "\n",
    "txt = 'signals.txt'\n",
    "fasta = 'signals.fasta'\n",
    "\n",
    "\n",
    "def txt_to_fasta(txt, fasta):\n",
    "    parent_id = []\n",
    "    seq = []\n",
    "    output_text = ''\n",
    "    with open(txt, 'r') as input_file:\n",
    "        for row_count, line in enumerate(input_file):\n",
    "            if row_count != 0:\n",
    "                for i in range(len(line)):\n",
    "                    if not line[i].isdigit():\n",
    "                        parent_id.append(line[0:i])\n",
    "                        break\n",
    "                for i in range(i, len(line)):\n",
    "                    if line[i].isalpha():\n",
    "                        seq.append(line[i:-1])\n",
    "                        break\n",
    "    \n",
    "    for i in range(len(parent_id)):\n",
    "        output_text += '>' + parent_id[i] + '\\n'\n",
    "        output_text += seq[i] + '\\n'\n",
    "    \n",
    "    with open(fasta, 'w') as output_file:\n",
    "        output_file.write(output_text)"
   ]
  }
 ],
 "metadata": {
  "kernelspec": {
   "display_name": "Python 3",
   "language": "python",
   "name": "python3"
  },
  "language_info": {
   "codemirror_mode": {
    "name": "ipython",
    "version": 3
   },
   "file_extension": ".py",
   "mimetype": "text/x-python",
   "name": "python",
   "nbconvert_exporter": "python",
   "pygments_lexer": "ipython3",
   "version": "3.6.9"
  }
 },
 "nbformat": 4,
 "nbformat_minor": 4
}
