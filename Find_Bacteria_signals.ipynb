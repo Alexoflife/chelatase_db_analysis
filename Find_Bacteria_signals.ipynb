{
 "cells": [
  {
   "cell_type": "code",
   "execution_count": 15,
   "metadata": {},
   "outputs": [],
   "source": [
    "from collections import Counter"
   ]
  },
  {
   "cell_type": "code",
   "execution_count": null,
   "metadata": {},
   "outputs": [],
   "source": [
    "#All genus with 3 or more signals \n",
    "\n",
    "more_3_signs = \n",
    "[('Pseudomonas', 27),\n",
    " ('Paraburkholderia', 10),\n",
    " ('Methanocaldococcus', 7),\n",
    " ('Comamonas', 6),\n",
    " ('Caballeronia', 5),\n",
    " ('Methanococcus', 4),\n",
    " ('Burkholderia', 4),\n",
    " ('Ectothiorhodospira', 3)]"
   ]
  },
  {
   "cell_type": "code",
   "execution_count": 77,
   "metadata": {},
   "outputs": [],
   "source": [
    "signal_id_path = 'signals_id.txt'"
   ]
  },
  {
   "cell_type": "code",
   "execution_count": 79,
   "metadata": {},
   "outputs": [],
   "source": [
    "signals_path = 'signals.txt'"
   ]
  },
  {
   "cell_type": "code",
   "execution_count": 74,
   "metadata": {},
   "outputs": [],
   "source": [
    "#Pulls all id and genus from the database for each signal and writes to the dict\n",
    "\n",
    "#Also you need all necessary files in format:\n",
    "#id\tparent_id\n",
    "\n",
    "#'fshifts_id.txt', 'seq_id.txt', 'org_id_genus.txt' here\n",
    "\n",
    "def signal_data(signal_id):\n",
    "    \n",
    "    data_dict = {'signal_' + str(i): ['', '', '', ''] for i in range(1, 125)}\n",
    "    \n",
    "    with open(signal_id, 'r') as input_file:\n",
    "        for row_count, line in enumerate(input_file):\n",
    "            if row_count != 0:\n",
    "                data_dict['signal_' + str(row_count)][0] += line[line.find('\\t')+1:line.find('\\n')]\n",
    "                \n",
    "        \n",
    "    with open('fshifts_id.txt', 'r') as input_file:\n",
    "        for row_count, line in enumerate(input_file):\n",
    "            if row_count != 0:\n",
    "                for i in range(1, len(data_dict) + 1):\n",
    "                    if data_dict['signal_' + str(i)][0] == line[0:line.find('\\t')]:\n",
    "                        data_dict['signal_' + str(i)][1] = line[line.find('\\t')+1:line.find('\\n')]\n",
    "                        \n",
    "    \n",
    "    with open('seq_id.txt', 'r') as input_file:\n",
    "        for row_count, line in enumerate(input_file):\n",
    "            if row_count != 0:\n",
    "                for i in range(1, len(data_dict) + 1):\n",
    "                    if data_dict['signal_' + str(i)][1] == line[0:line.find('\\t')]:\n",
    "                        data_dict['signal_' + str(i)][2] = line[line.find('\\t')+1:line.find('\\n')]\n",
    "                        \n",
    "    \n",
    "    with open('org_id_genus.txt', 'r') as input_file:\n",
    "        for row_count, line in enumerate(input_file):\n",
    "            if row_count != 0:\n",
    "                for i in range(1, len(data_dict) + 1):\n",
    "                    if data_dict['signal_' + str(i)][2] == line[0:line.find('\\t')]:\n",
    "                        data_dict['signal_' + str(i)][3] = line[line.find('\\t')+1:line.find('\\n')]\n",
    "                        \n",
    "        \n",
    "                \n",
    "    \n",
    "    \n",
    "    return data_dict"
   ]
  },
  {
   "cell_type": "code",
   "execution_count": 78,
   "metadata": {},
   "outputs": [
    {
     "data": {
      "text/plain": [
       "{'signal_1': ['33', 'NC_013887.1', '84', 'Methanocaldococcus'],\n",
       " 'signal_2': ['32', 'NC_013156.1', '85', 'Methanocaldococcus'],\n",
       " 'signal_3': ['34', 'NC_010002.1', '86', 'Delftia'],\n",
       " 'signal_4': ['3032', 'NC_014222.1', '89', 'Methanococcus'],\n",
       " 'signal_5': ['3033', 'NC_002516.2', '94', 'Pseudomonas'],\n",
       " 'signal_6': ['3034', 'NC_002947.4', '116', 'Pseudomonas'],\n",
       " 'signal_7': ['3035', 'NC_004578.1', '123', 'Pseudomonas'],\n",
       " 'signal_8': ['3038', 'NC_006350.1', '205', 'Burkholderia'],\n",
       " 'signal_9': ['3041', 'NC_007952.1', '257', 'Paraburkholderia'],\n",
       " 'signal_10': ['3046', 'NC_009439.1', '324', 'Pseudomonas'],\n",
       " 'signal_11': ['3047', 'NC_009634.1', '335', 'Methanococcus'],\n",
       " 'signal_12': ['3048', 'NC_009635.1', '336', 'Methanococcus'],\n",
       " 'signal_13': ['3049', 'NC_009767.1', '351', 'Roseiflexus'],\n",
       " 'signal_14': ['3052', 'NC_010623.1', '388', 'Paraburkholderia'],\n",
       " 'signal_15': ['3055', 'NC_013165.1', '464', 'Slackia'],\n",
       " 'signal_16': ['3056', 'NC_013407.1', '490', 'Methanocaldococcus'],\n",
       " 'signal_17': ['3059', 'NC_000909.1', '575', 'Methanocaldococcus'],\n",
       " 'signal_18': ['3060', 'NC_014122.1', '588', 'Methanocaldococcus'],\n",
       " 'signal_19': ['3061', 'NC_014364.1', '612', 'Sediminispirochaeta'],\n",
       " 'signal_20': ['3072', 'NC_014658.1', '762', 'Methanothermus'],\n",
       " 'signal_21': ['3075', 'NC_015636.1', '834', 'Methanothermococcus'],\n",
       " 'signal_22': ['3076', 'NC_017583.1', '854', 'Spirochaeta'],\n",
       " 'signal_23': ['3077', 'NC_014931.1', '859', 'Variovorax'],\n",
       " 'signal_24': ['3078', 'NC_015388.1', '926', 'Desulfobacca'],\n",
       " 'signal_25': ['3080', 'NC_014960.1', '968', 'Anaerolinea'],\n",
       " 'signal_26': ['3082', 'NZ_AEGR01000081.1', '995', 'Hylemonella'],\n",
       " 'signal_27': ['3083', 'NC_015556.1', '1007', 'Pseudomonas'],\n",
       " 'signal_28': ['3086', 'NC_015562.1', '1018', 'Methanotorris'],\n",
       " 'signal_29': ['3087', 'NC_015847.1', '1061', 'Methanococcus'],\n",
       " 'signal_30': ['3093', 'NC_016830.1', '1136', 'Pseudomonas'],\n",
       " 'signal_31': ['3097', 'NZ_CM001436.1', '1177', 'Methanoplanus'],\n",
       " 'signal_32': ['3098', 'NZ_AGJL01000038.1', '1182', 'Methanotorris'],\n",
       " 'signal_33': ['3100', 'NZ_AJLF01000002.1', '1237', 'Thermococcus'],\n",
       " 'signal_34': ['3101', 'NC_017079.1', '1303', 'Caldilinea'],\n",
       " 'signal_35': ['3105', 'NZ_AMPO01000009.1', '1391', 'Methanobacterium'],\n",
       " 'signal_36': ['3111', 'NZ_AQUK01000001.1', '1672', 'Methanocaldococcus'],\n",
       " 'signal_37': ['3115', 'NZ_AQXV01000049.1', '1746', 'Methanothermococcus'],\n",
       " 'signal_38': ['3118', 'NZ_KB907450.1', '1834', 'Variovorax'],\n",
       " 'signal_39': ['3120', 'NC_021237.1', '1878', 'Pseudomonas'],\n",
       " 'signal_40': ['3122', 'NC_021499.1', '1907', 'Pseudomonas'],\n",
       " 'signal_41': ['3123', 'NZ_ATUG01000002.1', '1924', 'Desulfospira'],\n",
       " 'signal_42': ['3126', 'NZ_AULM01000035.1', '1973', 'Desulfatiglans'],\n",
       " 'signal_43': ['3135', 'NZ_AUCQ01000006.1', '2181', 'Comamonas'],\n",
       " 'signal_44': ['3136', 'NZ_ATJV01000081.1', '2224', 'Thauera'],\n",
       " 'signal_45': ['3144', 'NZ_JAFN01000001.1', '2439', 'Deferrisoma'],\n",
       " 'signal_46': ['3154', 'NZ_KK214995.1', '2607', 'Ectothiorhodospira'],\n",
       " 'signal_47': ['3155', 'NZ_BAXZ01000004.1', '2617', 'Paraburkholderia'],\n",
       " 'signal_48': ['3156', 'NZ_JHYS01000008.1', '2648', 'Simplicispira'],\n",
       " 'signal_49': ['3158', 'NZ_JFHD01000010.1', '2668', 'Caballeronia'],\n",
       " 'signal_50': ['3159', 'NZ_JFHC01000018.1', '2669', 'Caballeronia'],\n",
       " 'signal_51': ['3165', 'NZ_CP009149.1', '2842', 'Methanocaldococcus'],\n",
       " 'signal_52': ['3166', 'NZ_CP006704.1', '2844', 'Comamonas'],\n",
       " 'signal_53': ['3167', 'NZ_BBJI01000029.1', '2851', 'Paraburkholderia'],\n",
       " 'signal_54': ['3173', 'NZ_JRMB01000001.1', '2967', 'Pseudomonas'],\n",
       " 'signal_55': ['3174', 'NZ_CP009533.1', '2975', 'Pseudomonas'],\n",
       " 'signal_56': ['3175', 'NZ_CP006933.1', '2979', 'Methanobacterium'],\n",
       " 'signal_57': ['3176', 'NZ_CP009170.1', '2986', 'Thermoanaerobacter'],\n",
       " 'signal_58': ['3177', 'NZ_JTDB01000028.1', '3037', 'Paraburkholderia'],\n",
       " 'signal_59': ['3178', 'NZ_KN639176.1', '3054', 'Pseudomonas'],\n",
       " 'signal_60': ['3179', 'NZ_JTKY01000071.1', '3065', 'Tepidimonas'],\n",
       " 'signal_61': ['3181', 'NZ_CP010421.1', '3091', 'Azotobacter'],\n",
       " 'signal_62': ['3182', 'NZ_JWJD01000002.1', '3102', 'Geoalkalibacter'],\n",
       " 'signal_63': ['3183', 'NZ_CCYK01000007.1', '3115', 'Pseudomonas'],\n",
       " 'signal_64': ['3184', 'NZ_CP010311.1', '3122', 'Geoalkalibacter'],\n",
       " 'signal_65': ['3185', 'NZ_CP010537.1', '3149', 'Cupriavidus'],\n",
       " 'signal_66': ['3188', 'NZ_CP016603.1', '3172', 'Comamonas'],\n",
       " 'signal_67': ['3190', 'NZ_LN554852.1', '3203', 'Moritella'],\n",
       " 'signal_68': ['3191', 'NZ_CP009488.1', '3214', 'Burkholderia'],\n",
       " 'signal_69': ['3192', 'NZ_CP009323.1', '3215', 'Burkholderia'],\n",
       " 'signal_70': ['3193', 'NZ_LAQU01000005.1', '3258', 'Robbsia'],\n",
       " 'signal_71': ['3195', 'NZ_BBQN01000063.1', '3283', 'Cupriavidus'],\n",
       " 'signal_72': ['3200', 'NZ_BBXW01000014.1', '3395', 'Anaerolinea'],\n",
       " 'signal_73': ['3201', 'NZ_DF967972.1', '3396', 'Longilinea'],\n",
       " 'signal_74': ['3202', 'NZ_BBYA01000011.1', '3397', 'Leptolinea'],\n",
       " 'signal_75': ['3205', 'NZ_DF968181.1', '3431', 'Flexilinea'],\n",
       " 'signal_76': ['3211', 'NZ_LAQT01000009.1', '3501', 'Amantichitinum'],\n",
       " 'signal_77': ['3213', 'NZ_LGCM01000019.1', '3524', 'Levilinea'],\n",
       " 'signal_78': ['3214', 'NZ_LGHJ01000012.1', '3525', 'Bellilinea'],\n",
       " 'signal_79': ['3215', 'NZ_LGCL01000015.1', '3526', 'Ornatilinea'],\n",
       " 'signal_80': ['3216', 'NZ_LGKP01000015.1', '3527', 'Herpetosiphon'],\n",
       " 'signal_81': ['3217', 'NZ_LGKO01000002.1', '3528', 'Thermanaerothrix'],\n",
       " 'signal_82': ['3220', 'NZ_CP012981.1', '3598', 'Burkholderia'],\n",
       " 'signal_83': ['3225', 'NZ_BCNR01000001.1', '3818', 'Comamonas'],\n",
       " 'signal_84': ['3228', 'NZ_CP013997.1', '3830', 'Pseudomonas'],\n",
       " 'signal_85': ['3229', 'NZ_BCNT01000001.1', '3842', 'Comamonas'],\n",
       " 'signal_86': ['3230', 'NZ_FCNZ02000001.1', '3848', 'Caballeronia'],\n",
       " 'signal_87': ['3231', 'NZ_FCNV02000003.1', '3849', 'Caballeronia'],\n",
       " 'signal_88': ['3232', 'NZ_FCOJ02000030.1', '3850', 'Caballeronia'],\n",
       " 'signal_89': ['3239', 'NZ_BCTJ01000014.1', '3934', 'Hydrogenophaga'],\n",
       " 'signal_90': ['3240', 'NZ_CP014784.1', '4003', 'Pseudomonas'],\n",
       " 'signal_91': ['3247', 'NZ_LWMV01000154.1', '4090', 'Methanobrevibacter'],\n",
       " 'signal_92': ['3248', 'NZ_LWMV01000009.1', '4090', 'Methanobrevibacter'],\n",
       " 'signal_93': ['3250', 'NZ_CP015878.1', '4140', 'Pseudomonas'],\n",
       " 'signal_94': ['3258', 'NZ_CP017562.1', '4309', 'Paraburkholderia'],\n",
       " 'signal_95': ['3261', 'NZ_CP018758.1', '4377', 'Pseudomonas'],\n",
       " 'signal_96': ['3266', 'NZ_CP019239.1', '4427', 'Rhodoferax'],\n",
       " 'signal_97': ['3268', 'NZ_CP019240.1', '4428', 'Rhodoferax'],\n",
       " 'signal_98': ['3272', 'NZ_BDAI01000003.1', '4565', 'Pseudomonas'],\n",
       " 'signal_99': ['3275', 'NZ_CP015118.1', '4611', 'Rhizobacter'],\n",
       " 'signal_100': ['3278', 'NZ_CP021455.1', '4648', 'Comamonas'],\n",
       " 'signal_101': ['3283', 'NZ_CP018632.1', '4701', 'Granulosicoccus'],\n",
       " 'signal_102': ['3289', 'NZ_FNCT01000008.1', '4847', 'Pseudomonas'],\n",
       " 'signal_103': ['3295', 'NZ_FMZC01000002.1', '4905', 'Acidovorax'],\n",
       " 'signal_104': ['3299', 'NZ_LT629751.1', '4979', 'Pseudomonas'],\n",
       " 'signal_105': ['3300', 'NZ_FNSR01000002.1', '4980', 'Paraburkholderia'],\n",
       " 'signal_106': ['3301', 'NZ_FNSC01000001.1', '4991', 'Pseudomonas'],\n",
       " 'signal_107': ['3302', 'NZ_LT629780.1', '5003', 'Pseudomonas'],\n",
       " 'signal_108': ['3303', 'NZ_FNNU01000004.1', '5022', 'Pseudomonas'],\n",
       " 'signal_109': ['3306', 'NZ_FNRQ01000009.1', '5050', 'Paraburkholderia'],\n",
       " 'signal_110': ['3307', 'NZ_LT629972.1', '5067', 'Pseudomonas'],\n",
       " 'signal_111': ['3310', 'NZ_FOAA01000017.1', '5084', 'Ectothiorhodospira'],\n",
       " 'signal_112': ['3315', 'NZ_FOJJ01000038.1', '5164', 'Desulfuromonas'],\n",
       " 'signal_113': ['3316', 'NZ_FOJP01000019.1', '5166', 'Pseudomonas'],\n",
       " 'signal_114': ['3319', 'NZ_FOQL01000001.1', '5231', 'Pseudomonas'],\n",
       " 'signal_115': ['3320', 'NZ_FOQU01000001.1', '5234', 'Paraburkholderia'],\n",
       " 'signal_116': ['3326', 'NZ_FOUO01000020.1', '5265', 'Ectothiorhodospira'],\n",
       " 'signal_117': ['3328', 'NZ_FOXM01000015.1', '5297', 'Pseudomonas'],\n",
       " 'signal_118': ['3333', 'NZ_FQXS01000002.1', '5418', 'Desulfofustis'],\n",
       " 'signal_119': ['3334', 'NZ_FQYS01000003.1', '5436', 'Pseudomonas'],\n",
       " 'signal_120': ['3335', 'NZ_FQZT01000006.1', '5446', 'Malonomonas'],\n",
       " 'signal_121': ['3337', 'NZ_FRCX01000004.1', '5479', 'Duganella'],\n",
       " 'signal_122': ['3350', 'NZ_FXAH01000016.1', '5672', 'Paraburkholderia'],\n",
       " 'signal_123': ['3351', 'NZ_LT859958.1', '5684', 'Brevefilum'],\n",
       " 'signal_124': ['3356', 'NZ_HG794426.1', '2379', 'Methanobrevibacter']}"
      ]
     },
     "execution_count": 78,
     "metadata": {},
     "output_type": "execute_result"
    }
   ],
   "source": [
    "signal_data(signal_id_path)"
   ]
  },
  {
   "cell_type": "code",
   "execution_count": 84,
   "metadata": {},
   "outputs": [],
   "source": [
    "#Creates a final fasta file for a given genus from a dictionary with data and signals in txt format\n",
    "\n",
    "def genus_signal(signal_dict, genus, signals_in, signals_out):\n",
    "    \n",
    "    output_text = ''\n",
    "    \n",
    "    with open(signals_in, 'r') as input_file:\n",
    "        for row_count, line in enumerate(input_file):\n",
    "            if row_count != 0:\n",
    "                if signal_dict['signal_' + str(row_count)][3] == genus:\n",
    "                    output_text += '>' + signal_dict['signal_' + str(row_count)][0] + '\\n' + line[line.find('\\t') + 1:line.find('\\n')] + '\\n'\n",
    "    \n",
    "    with open(signals_out, 'w') as output_file:\n",
    "        output_file.write(output_text)\n",
    "        \n",
    "    \n",
    "                    \n",
    "                    \n",
    "        \n",
    "    \n",
    "    \n",
    "    "
   ]
  },
  {
   "cell_type": "code",
   "execution_count": 85,
   "metadata": {},
   "outputs": [],
   "source": [
    "genus_signal(signal_data(signal_id_path), 'Paraburkholderia', signals_path, 'signals_Paraburkholderia.fasta')"
   ]
  },
  {
   "cell_type": "code",
   "execution_count": 86,
   "metadata": {},
   "outputs": [],
   "source": [
    "genus_signal(signal_data(signal_id_path), 'Methanocaldococcus', signals_path, 'signals_Methanocaldococcus.fasta')"
   ]
  },
  {
   "cell_type": "code",
   "execution_count": 87,
   "metadata": {},
   "outputs": [],
   "source": [
    "genus_signal(signal_data(signal_id_path), 'Comamonas', signals_path, 'signals_Comamonas.fasta')"
   ]
  },
  {
   "cell_type": "code",
   "execution_count": 88,
   "metadata": {},
   "outputs": [],
   "source": [
    "genus_signal(signal_data(signal_id_path), 'Caballeronia', signals_path, 'signals_Caballeronia.fasta')"
   ]
  },
  {
   "cell_type": "code",
   "execution_count": 89,
   "metadata": {},
   "outputs": [],
   "source": [
    "genus_signal(signal_data(signal_id_path), 'Methanococcus', signals_path, 'signals_Methanococcus.fasta')"
   ]
  },
  {
   "cell_type": "code",
   "execution_count": 90,
   "metadata": {},
   "outputs": [],
   "source": [
    "genus_signal(signal_data(signal_id_path), 'Burkholderia', signals_path, 'signals_Burkholderia.fasta')"
   ]
  },
  {
   "cell_type": "code",
   "execution_count": 91,
   "metadata": {},
   "outputs": [],
   "source": [
    "genus_signal(signal_data(signal_id_path), 'Ectothiorhodospira', signals_path, 'signals_Ectothiorhodospira.fasta')"
   ]
  }
 ],
 "metadata": {
  "kernelspec": {
   "display_name": "Python 3",
   "language": "python",
   "name": "python3"
  },
  "language_info": {
   "codemirror_mode": {
    "name": "ipython",
    "version": 3
   },
   "file_extension": ".py",
   "mimetype": "text/x-python",
   "name": "python",
   "nbconvert_exporter": "python",
   "pygments_lexer": "ipython3",
   "version": "3.6.9"
  }
 },
 "nbformat": 4,
 "nbformat_minor": 4
}
